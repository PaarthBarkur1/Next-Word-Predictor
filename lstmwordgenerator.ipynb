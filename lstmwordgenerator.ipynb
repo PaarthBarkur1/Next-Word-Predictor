{
  "nbformat": 4,
  "nbformat_minor": 0,
  "metadata": {
    "colab": {
      "provenance": [],
      "gpuType": "T4",
      "authorship_tag": "ABX9TyO2cjJY9oTNtaUeBiEnTXmJ",
      "include_colab_link": true
    },
    "kernelspec": {
      "name": "python3",
      "display_name": "Python 3"
    },
    "language_info": {
      "name": "python"
    },
    "accelerator": "GPU"
  },
  "cells": [
    {
      "cell_type": "markdown",
      "metadata": {
        "id": "view-in-github",
        "colab_type": "text"
      },
      "source": [
        "<a href=\"https://colab.research.google.com/github/PaarthBarkur1/Next-Word-Predictor/blob/main/lstmwordgenerator.ipynb\" target=\"_parent\"><img src=\"https://colab.research.google.com/assets/colab-badge.svg\" alt=\"Open In Colab\"/></a>"
      ]
    },
    {
      "cell_type": "code",
      "execution_count": 1,
      "metadata": {
        "id": "J0ZeZLE0U5eZ"
      },
      "outputs": [],
      "source": [
        "import pandas as pd\n",
        "import numpy as np\n",
        "\n",
        "import matplotlib.pyplot as plt\n",
        "import seaborn as sns\n",
        "import plotly.express as px\n",
        "import copy\n",
        "import warnings"
      ]
    },
    {
      "cell_type": "markdown",
      "source": [
        "https://en.wikipedia.org/wiki/Virat_Kohli you can use this"
      ],
      "metadata": {
        "id": "UJ4REGZgwreX"
      }
    },
    {
      "cell_type": "code",
      "source": [
        "import requests\n",
        "\n",
        "url = str(input(\"Provide the link to the website that needs to be scrapped : \"))\n",
        "response = requests.get(url)\n",
        "html_content = response.text\n"
      ],
      "metadata": {
        "id": "QLyN2ATVV8JT",
        "colab": {
          "base_uri": "https://localhost:8080/"
        },
        "outputId": "a1581560-9bbd-4ec2-e705-18de6770c7f2"
      },
      "execution_count": 2,
      "outputs": [
        {
          "name": "stdout",
          "output_type": "stream",
          "text": [
            "Provide the link to the website that needs to be scrapped : https://en.wikipedia.org/wiki/Virat_Kohli\n"
          ]
        }
      ]
    },
    {
      "cell_type": "code",
      "source": [
        "from bs4 import BeautifulSoup\n",
        "\n",
        "soup = BeautifulSoup(html_content, 'html.parser')\n"
      ],
      "metadata": {
        "id": "gbAqAMLwWSai"
      },
      "execution_count": 3,
      "outputs": []
    },
    {
      "cell_type": "code",
      "source": [
        "\n"
      ],
      "metadata": {
        "id": "BsKqbSr7ZHtX"
      },
      "execution_count": 3,
      "outputs": []
    },
    {
      "cell_type": "code",
      "source": [
        "def extract_paragraphs(soup):\n",
        "    paragraphs = [p.get_text(strip=True) for p in soup.find_all(\"p\")]  # Extract text from paragraph tags\n",
        "    return [p for p in paragraphs if p and len(p) > 10]  # Return paragraphs longer than 10 characters"
      ],
      "metadata": {
        "id": "ZgNhqNMDgvB4"
      },
      "execution_count": 4,
      "outputs": []
    },
    {
      "cell_type": "code",
      "source": [
        "\n",
        "all_text = ' '.join(extract_paragraphs(soup))\n",
        "all_text = all_text.replace('\\n', ' ')\n",
        "all_text = all_text.replace('\\t', ' ')\n",
        "all_text"
      ],
      "metadata": {
        "id": "9Kx7b1MuX_P-",
        "colab": {
          "base_uri": "https://localhost:8080/",
          "height": 127
        },
        "outputId": "6b935266-7ed1-4b7f-902e-a6ef834a2630"
      },
      "execution_count": 5,
      "outputs": [
        {
          "output_type": "execute_result",
          "data": {
            "text/plain": [
              "'Virat Kohli(Hindi pronunciation:[ʋɪˈɾɑːʈˈkoːɦli]ⓘ; born 5 November 1988) is an Indianinternational cricketerwho playsTestandODIcricket for theIndian national team. A formercaptainin all formats of the game, Kohli retired from theT20Iformat following India\\'s win at the2024 T20 World Cup. He\\'s a right-handedbatsmanand an occasional unorthodox right arm quickbowler. In total runs scored, Kohli ranks first inIPL, second inT20I, third inODI, and fourth overall in international cricket.[4]Regarded as one of the greatest batsman of all time, he also holds the record for scoring the most centuries in ODI cricket and is second in thelist of most international centuries scoredin international cricket.[5] Kohli was a member of the Indian team that won the2011 Cricket World Cup,2013 Champions Trophyand2024 T20 World Cupand captained India to win theICC Test macethree consecutive times in 2017, 2018, and 2019.[6]He representsRoyal Challengers Bengaluruin theIndian Premier LeagueandDelhiindomestic cricket. In 2013, Kohli was ranked number one in theICC rankingsfor ODI batsmen. In 2015, he achieved the summit of T20I rankings.[7]In 2018, he was ranked top Test batsman, making him the only Indian cricketer to hold the number one spot in all three formats of the game. He is the first player to score 20,000 runs in a decade. In 2020, theInternational Cricket Councilnamed him the male cricketer of the decade.[8] Kohli has garnered10 ICC Awardswhich is the most decorated player in International Cricket history. He won theICC ODI Player of the Yearaward four times in 2012, 2017, 2018, and 2023. He also won theSir Garfield Sobers Trophy, given to the ICC Cricketer of the Year, on two occasions, in 2017 and 2018 respectively. In 2018, he became the first player to win both ICC ODI andTest Player of the Yearawards in the same year. Also, he was named theWisden Leading Cricketer in the Worldfor three consecutive years, from 2016 to 2018.Kohli has the second most and most \\'Player of the Match\\' and \\'Player of the Series\\' awardsto his name, respectively, in all three formats combined.  At the national level, Kohli was honoured with theArjuna Awardin 2013, thePadma Shriin 2017, and India\\'s highest sporting honour, theKhel Ratna Award, in 2018. In 2018,Timemagazine included him on its list of the100 most influential people in the world. After winning the2024 T20 World Cupand the Player of the Match in theFinal, Kohli announced his retirement from T20Is.[9] Virat Kohli was born on 5 November 1988 inDelhiinto aPunjabi Hindufamily. His father, Prem Nath Kohli, worked as a criminal lawyer, and his mother, Saroj Kohli, served as a housewife. He has an older brother, Vikas, and an older sister, Bhawna.[10]Kohli\\'s formative years were spent inUttam Nagar. He commenced his early education at Vishal Bharti Public School.[11]According to his family, Kohli exhibited an early affinity for cricket as a three-year-old. He would pick up acricket batand request his father bowl to him.[12] In 1998, theWest Delhi Cricket Academy(WDCA) was created. On 30 May of that year, Prem Nath Kohli arranged for his son to meetRajkumar Sharma.[13]Upon the suggestion of their neighbours, Kohli\\'s father considered enrolling his son in a professional cricket academy, as they believed that his cricketing abilities merited more than just playing ingully cricket.[14]Despite his abilities, he faced the setback of being unable to secure a place in the under-14 Delhi team, supposedly due to extraneous factors. Prem Kohli reportedly received offers to relocate his son to influential clubs, which would have ensured his selection, but he declined the proposals. Kohli eventually found his way into the under-15 Delhi team.[15]He received training at the academy while simultaneously participating in matches at theSumeet DograAcademy located atVasundhara Enclave.[16]In pursuit of furthering his cricketing career, he transitioned to Saviour Convent School during his ninth-grade education.[14] On 18 December 2006, Kohli\\'s father died due to acerebral attack.[14][17][11][18]According to his mother, Kohli\\'s demeanour shifted noticeably after his father\\'s death. He took cricket with newfound seriousness, prioritizing playing time and dedicating himself fully to the sport.[14]Kohli\\'s family resided inMeera Bagh,Paschim Viharuntil the year 2015, after which they relocated toGurgaon.[19] Kohli\\'s batting style and approach to the game have frequently drawn comparisons toSachin Tendulkar, whom he regarded as the epitome of excellence in the sport of cricket. Dubbed as Tendulkar\\'s \"successor\",[20][21]he is widely considered to have the potential to surpass his records in the future.[22][23]Kohli has stated that he tried to mirror Tendulkar\\'s style of batting, imitating his shots and attempting to hit sixes in a similar manner.[24]Kohli\\'s aggressive and dynamic style has earned him accolades from cricketing greats such as Vivian Richards, who has acknowledged Kohli\\'s similarities to his own playing style.[25]He has been lauded as the \"new king of world cricket\" by Dean Jones, a former Australian cricketer.[26]While Indian commentatorAakash Choprahas noted that Tendulkar possessed a broader array of shots,[27]Kohli\\'s skills with the bat have earned him accolades from former West Indies greatBrian Lara, who has ranked him among the best batsmen in the world alongsideJoe Root, the England captain at the time.[28] In a discourse withBollywoodactorSalman Khan, Tendulkar proclaimed that Kohli possesses the potential to surpass his record of 100 international centuries. Tendulkar also acknowledged Kohli\\'s batting aptitudes and the steadfastness with which he has accumulated runs.[29]In 2013, Tendulkar retired from international cricket, marking the end of an era for Indian cricket. Kohli, who played alongside Tendulkar in the team.[30] Kohli became the fastest player to score 27,000 runs in international cricket. He surpassed Sachin Tendulkar\\'s record, achieving the feat in 594 innings compared to Tendulkar\\'s 623, during the second Test against Bangladesh at Green Park Stadium. Kohli now joins Ricky Ponting and Kumar Sangakkara as the only players to have crossed this milestone in international cricket.[31] Kohli possesses technical abilities and a dynamic playing demeanour.[32][33]His customarily batting position in ODl cricket is at number three, with a slightly open-chested stance,[34]and a grip on the bottom handle of his bat. He has been noted for his agile footwork, expansive range of strokes, and his propensity for adeptly orchestrating innings whilst thriving in high-pressure situations.[35][36]In his batting technique, Kohli tends to favour playing grounded shots rather than attempting big hits. He is appreciated for his ability to execute wrist shots and his consistent prowess in themid-wicketandcoverregion.[37][38] Kohli has often expressed his admiration for thecover drive, which he considers to be his signature stroke. He uses theflick shot, particularly when facing deliveries aimed towardsleg stump.[12]Having a limited recourse to thesweep shot, Kohli\\'s batting technique is characterized by an emphasis on ground shots that primarily yield runs in the regions betweendeep square legandmid-on.[39]Kohli scores runs betweenlong-offandlong-onwith an aligned bat. His combination of bat-speed and supple wrist movements enable him to craft innovative angles that disrupt traditional field positioning.[40]Kohli is also a proficient fielder.[41] However, Kohli has a vulnerability to deliveries that are wide of theoff-stump.[42]Bowlers often exploit this weakness by targeting him with such deliveries, especially in Test and ODl matches.[43][44][45]Cricket experts such asVVS Laxmanand former India cricketerSanjay Manjrekarhave acknowledged this weakness,[46][47]and former New Zealand cricketerRichard Hadleehas also noted that Kohli is particularly susceptible toout-swingingdeliveries.[48] Kohli has recognition as a limited-overs batsman.[49][50]In ODIs, he boasts an average of 65.5 runs when batting second and 51.7 runs when batting first.[51]He has amassed 27 of his 50 ODI hundreds in run-chases,[52]and holds the record for the most hundreds scored when batting second.[53]In reference to his success while batting second, Kohli has expressed a fondness for the challenge of chasing, relishing the opportunity to test himself and demonstrate his ability to efficiently manage strike rotation and execute boundary hits.[54]His colleagues admire his self-assurance, dedication, concentration, and work ethic, which are the driving forces behind his success.[55][56] Kohli\\'s playing style is aggressive, a trait that extends to his leadership on the field.[57][58]His captaincy is characterized as proactive, taking decisions and leading the team by example.[59]Kohli has been the subject of much media scrutiny and criticism in the early stages of his career. He was often portrayed as a brash and arrogant individual, eliciting mixed reactions.[60][61]While some have praised his assertiveness and confidence,[62][63]others have criticized Kohli\\'s behaviour for crossing the boundaries of fair play and for losing control, sometimes resulting in a loss of composure.[64]Despite his efforts to curb his aggressive behaviour, Kohli has acknowledged that there are times when intense pressure or high-stakes situations may challenge his resolve. The cricketer has persistently maintained that his aggression acts as a source of inspiration and drives his focus and motivation on the field.[65]Writing forThe New York Times, Huw Richards noted Kohli\\'s self-assuredness and \"assertiveness\" in contrast to some former Indian cricketers who he felt had exhibited an inclination towards excessive politeness and reticence, and that Kohli embodies his combative demeanour both on and off the cricket field.[66] In 2008, Kohli was approached bysports agentBunty Sajdeh of Cornerstone Sport and Entertainment after his performance in theICC Under-19 World Cup. Sajdeh was impressed with Kohli\\'s leadership skills and attitude and saw potential in the young cricketer. After being recommended by Yuvraj Singh, Kohli was signed to Cornerstone Sport and Entertainment.[67]Over the years, Kohli\\'s brand endorsement portfolio has experienced significant growth. In 2013, it was reported that his endorsements were valued at over₹1 billion(US$12\\xa0million).[68]In 2023, his brand value reached₹1,000 crore(US$120\\xa0million).[69]His bat deal withMRFis one of the most financially rewarding deals in cricket history.[70]In 2017, Kohli entered into an endorsement agreement withPumathat spanned over eight years and was estimated to be worth around₹1.1 billion(US$13\\xa0million). This deal made Kohli the first Indian athlete to sign a brand endorsement contract valued at₹100 crore(equivalent to₹140\\xa0crore or US$17\\xa0million in 2023) deal with a brand.[71]As of January\\xa02023[update], Kohli is widely regarded as the most marketable cricketer, with annual earnings estimated at₹165 crore(equivalent to₹175\\xa0crore or US$21\\xa0million in 2023).[72]Kohli is themost followed Asian individualon the social media platformInstagram, with over 266 million followers on the platform. Reports indicate that he is able to command a fee of₹8.9 crore(equivalent to₹9.4\\xa0crore or US$1.1\\xa0million in 2023) for each sponsored post on the platform.[73] ESPN ranked Kohli among the world\\'s most renowned athletes.[74][75]In 2014,American Appraisalconducted an evaluation of Kohli\\'s brand value and determined it to be $56.4 million, placing him fourth on the list of India\\'s most valued celebrity brands.[76]In October 2016 byDuff & Phelps, Kohli\\'s brand worth had increased to $92 million, second only to that of Bollywood actorShah Rukh Khan.[77]In 2017, Kohli was recognized byForbesas the seventh \"Most Valuable Brand among Athletes\", with a brand estimation of $14.5 million.[78]By September of the same year, Kohli had endorsement agreements with 17 distinct brands, and he announced that he would only endorse products that he personally uses and believes in.[79]The following year, he was featured onTimemagazine\\'s annual list of the100 most influential people in the world.[80]In 2019, Kohli was the only cricketer included in Forbes\\' list of \"World\\'s 100 Highest-Paid Athletes\". He was ranked 100th on the list, with earnings estimated at $25 million, with $21 million being procured through endorsements, and the remainder from salary and tournament winnings.[81]Furthermore, in March 2019, Kohli was named the brand ambassador of the mobile esports platform,Mobile Premier League.[82]Kohli\\'s earning potential continued to climb, and in 2020, he attained the 66th spot inForbescompilation of thetop 100 highest-paid athletes in the world for the year 2020, with estimated earnings exceeding $26 million.[83]In April 2021,Vivoappointed Kohli as their brand ambassador ahead of the Indian Premier League.[84] In 2012, Kohli was recognized as one of the best-dressed men by the fashion magazineGQ, appearing on their annual list.[85]Six years later, in 2018, a documentary highlighting Kohli\\'s cricketing career was released onNational Geographicchannel.[86]The following year, on the eve of the2019 Cricket World CupMadame Tussaudsunveiled an waxwork of Kohli in London.[87]In 2019, on the eleventh anniversary of his international debut, Kohli was honoured with a stand named after him at theFeroz Shah Kotla Stadiumin Delhi, making him the youngest cricketer to receive such a recognition.[88]In November of the same year, an Indian animated superhero television series entitledSuper Vpremiered, featuring a fictionalized portrayal of Kohli\\'s teenage years and his discovery of superpowers.[89] Kohli\\'s romantic association with Bollywood actressAnushka Sharma, which commenced in 2013, earned the duo themonikerof \"Virushka\".[90]During an interview withGraham Bensinger, Kohli divulged that he had encountered Sharma for the first time, when they were both were engaged in a promotional shoot forClear shampoo.[91]Their union since then has attracted significant media interest.[92]On 11 December 2017, the couple exchanged nuptials in a ceremony held inFlorence,Italy.[93]On 11 January 2021, the couple had their first child, a daughter.[94]The child\\'s name, Vamika, is derived from Sanskrit, meaning \"little goddess\".[95]On 15 February 2024, the couple had a second child, a boy named Akaay.[96] In 2018, Kohli disclosed that he had made the decision to adopt avegetarian dietin an effort to alleviate the symptoms of acervical spineissue caused by elevated levels ofuric acid. This condition was impacting his finger movements, and thus, affecting his performance as a batsman. He made a conscious effort to abstain from consuming meat, as part of his regimen for maintaining optimal health.[97]He has since clarified that his dietary choices do not align with avegan lifestyleand he continues to consume dairy products and eggs effectively making what is known in India as aneggetarian.[98][99][100]His hard work and discipline have earned him the reputation of being one of the fittest cricketers in the world.[101] Kohli has acknowledged a belief in superstitions and owns various lucky charms and rituals that he feels serve to bring him good fortune on the cricket field. One such tradition involves the donning of blackwristband. Additionally, he prefers a particular pair of gloves, which he has consistently worn.[10]Furthermore, Kohli has been observed sporting akara, a traditional bangle often worn for religious or spiritual purposes, on his right arm since 2012.[102]In addition to the previously mentioned superstitions, Kohli has also established the ritual of consistently donning white shoes on the cricket field.[103]Kohli hastattoosof the Hindu deityLord Shiva, the sacred syllable \"Om\", the names of his parents, Prem and Saroj, atribal emblem, a representation of a serene monastery, asamuraiwarrior, the astrological symbol of thescorpion, and his ODl and Test match cap numbers.[104][105] Kohli invested inIndian Super LeagueclubFC Goa, which he co-owned as of 2024. Beyond the realm of cricket, this venture served as a future business opportunity for him, as he sought to diversify his portfolio after retirement from the sport.[106]In November 2014, Kohli partnered with Anjana Reddy\\'sUniversal Sportsbiz (USPL)to launch the youth fashion brandWROGN. The brand specialized in men\\'s casual wear clothing and entered into collaborations with retail outlets such asMyntraandShopper\\'s Stop.[107]Additionally, in late 2014, Kohli became a shareholder and brand ambassador for the London-based social networking venture \"Sport Convo\". His involvement aimed to promote and raise awareness of the platform, which was focused on providing a space for sports fans to connect and engage with one another.[108] In 2015, Kohli invested a sum of₹90 crore(US$11\\xa0million) towards the establishment of a chain of health clubs and fitness centers throughout India. Dubbed as \"Chisel\", the network of gyms was established through a joint venture between Kohli, Chisel India, and CSE (Cornerstone Sport and Entertainment), the organization responsible for managing Kohli\\'s commercial pursuits.[109]In September of the same year, Kohli expanded his portfolio of sports-related investments by becoming a co-owner of theInternational Premier Tennis Leaguefranchise,UAE Royals.[110]In quick succession, he also became a co-owner of theJSW-owned Bengaluru Yodhas franchise in thePro Wrestling League.[111] In the year 2016, Kohli joined forces withStepathlon Lifestyleto launch Stepathlon Kids. The initiative aimed to encourage young individuals to adopt healthy lifestyle habits and inculcate the love for physical activity.[112] In 2017, Kohli entered into a partnership with the German sportswear brand,Puma, to launch his athletic lifestyle brand,One8. This brand offers a range of sport-related apparel, footwear, and accessories.[113]That same year, Kohli also established Nueva, a fine dining establishment located in New Delhi. The restaurant features a South American-inspired decor accentuated withNative Americanartwork, providing a distinctive culinary setting.[114]Kohli also establishedOne8 Commune, a chain of restaurant-bars. This marked his inaugural foray into the food and beverage industry. The first outlet of this restaurant was launched in 2017.[115] In 2022, Kohli and his spouse made an investment of₹2.5 crore(equivalent to₹2.9\\xa0crore or US$350,000 in 2023) inDigit, an insurance-based startup.[116]Additionally, they also extended their support toBlue Tribe, a startup that specializes in the production and distribution ofplant-based meatproducts. Driven by his own inclination towards a plant-based diet, Kohli aims to raise awareness and encourage individuals to adopt more sustainable and environmentally conscious practices.[117] In 2013, Kohli founded the \"Virat Kohli Foundation\" with a philanthropic objective to support underprivileged children.[118]The foundation collaborates with a selected group ofNGOsto increase awareness and gather support for various causes that are instrumental in advancing their mission of promoting the welfare and well-being of these children.[119][120]In 2014, the foundation participated in a charity auction organized byeBayandSave the ChildrenIndia, the proceeds of which were directed towards the education and healthcare of underprivileged children.[121] Kohli\\'s foundation has organized several charity events to raise funds for its causes, including football matches featuring Indian cricketers and Bollywood actors. The first such event was a celebrity football match in collaboration withAbhishek Bachchan\\'s charity foundation, which drew media attention and was raised funds.[122]In this match, Kohli captained the All Hearts FC against the All Stars FC, led by Abhishek Bachchan.[123]Another charity football match, dubbed the \"Celebrity Clasico\", was held in June 2016 in Mumbai, with Kohli again leading the All Hearts FC against the All Stars FC, captained byRanbir Kapoor.[124] In 2016, the Virat Kohli Foundation entered into a partnership with Smile Foundation to promote the empowerment of underprivileged children and young people. To kickstart this initiative, Kohli organized a philanthropic dinner atGrand Hyatt, Mumbai, with cricket players such as MS Dhoni, Shikhar Dhawan, Yuvraj Singh, Ajinkya Rahane, andKL Rahulto support the cause of child and youth empowerment.[125]To advance the goals of theSwachh Bharat Mission(SBM), which aims at creating a cleaner India, Kohli and the Indian cricket team, in collaboration withAnurag Thakur, undertook a cleaning initiative at theEden Gardenson the occasion ofGandhi Jayantiof 2016.[126] Prior to a match against Sri Lanka in the2017 Champions Trophy, Kohli hosted a benevolent gala event in London in support of the Justice and Care organization. The ball was arranged with the objective of increasing both funds and awareness for the humanitarian cause championed by Justice and Care. The organization endeavors to combat human trafficking and contemporary slavery.[127]In 2017, Kohli established the Athlete Development Programme (ADP) as a platform for nurturing and supporting aspiring young athletes. This initiative provides guidance to young athletes in areas such as coaching, training, fitness, competition, and nutrition. The program has been used by young sports persons, including tennis player Swastika Ghosh and golferAadil Bedi.[128] In response to theCOVID-19 pandemicof 2020, Kohli and his wife Anushka Sharma pledged donations to thePM CARES Fundand the Maharashtra CM Relief Fund.[129]Through his support ofAwaaz, Kohli seeks to provide comprehensive medical services, shelter, and sustenance to stray animals.[130] Kohli has made 80centurieswhich includes 7 double centuries in international cricket—29 centuries including 7 double centuries inTest cricket, 50 centuries inOne Day Internationals(ODIs) surpassing the record of Sachin Tendulkar, and 1 century inT20I.[131] Kohli is the only cricketer to have been named the Player of the Tournament in the T20 World Cup on two separate occasions, in2014and2016.[132]In terms of ODI centuries, he ranks first with 50.[133]He surpassed Sachin Tendulkar\\'s tally of 49 ODI tons and achieved this feat on 15 November 2023 in the semifinal of the2023 Cricket World Cup, while also becoming the first player to score more than 700 runs in a single edition of the tournament.[134]Furthermore, in international cricket, Kohli has amassed 80 centuries, second only to Sachin Tendulkar\\'s 100 centuries.[135]In 2018, Kohli set a record, becoming the first player to score 1,000 ODI runs in 11 innings in a calendar year.[136]In 2022, he achieved another milestone by scoring 1,000 runs in the ICC Men\\'s T20 World Cup, becoming the second player to reach this feat after Mahela Jayawardene.[137]During the match against Bangladesh, he became the top-scorer in the history of T20 World Cup.[138]'"
            ],
            "application/vnd.google.colaboratory.intrinsic+json": {
              "type": "string"
            }
          },
          "metadata": {},
          "execution_count": 5
        }
      ]
    },
    {
      "cell_type": "code",
      "source": [
        "import tensorflow as tf\n",
        "from tensorflow.keras.preprocessing.text import Tokenizer\n",
        "from tensorflow.keras.preprocessing.sequence import pad_sequences\n",
        "tokenizer = Tokenizer()\n",
        "tokenizer.fit_on_texts([all_text])"
      ],
      "metadata": {
        "id": "RHz29YkCYelu"
      },
      "execution_count": 6,
      "outputs": []
    },
    {
      "cell_type": "code",
      "source": [
        "len(tokenizer.word_index)"
      ],
      "metadata": {
        "colab": {
          "base_uri": "https://localhost:8080/"
        },
        "id": "eUaHoXEGbQa-",
        "outputId": "e23b85e5-7ce1-4dc6-a2a4-6c0ec584d249"
      },
      "execution_count": 7,
      "outputs": [
        {
          "output_type": "execute_result",
          "data": {
            "text/plain": [
              "1456"
            ]
          },
          "metadata": {},
          "execution_count": 7
        }
      ]
    },
    {
      "cell_type": "code",
      "source": [
        "input_sequences = []\n",
        "maxi = 0\n",
        "for sentences in all_text.split(\".\"):\n",
        "  if len(sentences) > 1:\n",
        "    tokenized_sentence = (tokenizer.texts_to_sequences([sentences]))[0]\n",
        "    for i in range(1, len(tokenized_sentence)):\n",
        "      maxi = max(len(tokenized_sentence[:i+1]), maxi)\n",
        "      input_sequences.append(tokenized_sentence[:i+1])\n"
      ],
      "metadata": {
        "id": "nBLvq32NbYvK"
      },
      "execution_count": 8,
      "outputs": []
    },
    {
      "cell_type": "code",
      "source": [
        "maxi"
      ],
      "metadata": {
        "colab": {
          "base_uri": "https://localhost:8080/"
        },
        "id": "fbdp_zpIiXUR",
        "outputId": "37de5b35-312d-4ecf-c247-13b7a50d269c"
      },
      "execution_count": 9,
      "outputs": [
        {
          "output_type": "execute_result",
          "data": {
            "text/plain": [
              "49"
            ]
          },
          "metadata": {},
          "execution_count": 9
        }
      ]
    },
    {
      "cell_type": "code",
      "source": [
        "from tensorflow.keras.preprocessing.sequence import pad_sequences\n",
        "padded_sequences =pad_sequences(input_sequences,maxlen = maxi , padding='pre')\n"
      ],
      "metadata": {
        "id": "K7ZJubuzi4X4"
      },
      "execution_count": 10,
      "outputs": []
    },
    {
      "cell_type": "code",
      "source": [
        "x = padded_sequences[:,:-1]\n",
        "y = padded_sequences[:,-1]\n"
      ],
      "metadata": {
        "id": "FPFM91vFjPWe"
      },
      "execution_count": 11,
      "outputs": []
    },
    {
      "cell_type": "code",
      "source": [
        "x.shape"
      ],
      "metadata": {
        "colab": {
          "base_uri": "https://localhost:8080/"
        },
        "id": "dPuhvb-BkMVs",
        "outputId": "4d9b6492-d12a-4da9-dca6-e666121c9609"
      },
      "execution_count": 12,
      "outputs": [
        {
          "output_type": "execute_result",
          "data": {
            "text/plain": [
              "(3421, 48)"
            ]
          },
          "metadata": {},
          "execution_count": 12
        }
      ]
    },
    {
      "cell_type": "code",
      "source": [
        "from tensorflow.keras.utils import to_categorical\n",
        "y =to_categorical(y, num_classes = (len(tokenizer.word_index)+1))"
      ],
      "metadata": {
        "id": "DidFyYxIkhwA"
      },
      "execution_count": 13,
      "outputs": []
    },
    {
      "cell_type": "code",
      "source": [
        "from tensorflow.keras.models import Sequential\n",
        "from tensorflow.keras.layers import Embedding, Dense, LSTM\n",
        "from tensorflow.keras.optimizers import Adam\n",
        "\n",
        "# Assuming tokenizer is already defined and fitted\n",
        "inpsize = len(tokenizer.word_index) + 1\n",
        "  # Replace with the actual max length of your input sequences\n",
        "\n",
        "# Model definition\n",
        "model = Sequential()\n",
        "model.add(Embedding(inpsize,100))\n",
        "model.add(LSTM(150))\n",
        "model.add(Dense(inpsize, activation='softmax'))\n",
        "\n",
        "# Model compilation\n",
        "model.compile(optimizer=Adam(learning_rate=0.001), loss='categorical_crossentropy', metrics=['accuracy'])\n",
        "\n",
        "# Model summary\n",
        "model.summary()\n"
      ],
      "metadata": {
        "colab": {
          "base_uri": "https://localhost:8080/",
          "height": 225
        },
        "id": "KU7VxgAnmdf1",
        "outputId": "f82b9378-1ea0-4de5-95fb-95e45f4c0798"
      },
      "execution_count": 14,
      "outputs": [
        {
          "output_type": "display_data",
          "data": {
            "text/plain": [
              "\u001b[1mModel: \"sequential\"\u001b[0m\n"
            ],
            "text/html": [
              "<pre style=\"white-space:pre;overflow-x:auto;line-height:normal;font-family:Menlo,'DejaVu Sans Mono',consolas,'Courier New',monospace\"><span style=\"font-weight: bold\">Model: \"sequential\"</span>\n",
              "</pre>\n"
            ]
          },
          "metadata": {}
        },
        {
          "output_type": "display_data",
          "data": {
            "text/plain": [
              "┏━━━━━━━━━━━━━━━━━━━━━━━━━━━━━━━━━━━━━━┳━━━━━━━━━━━━━━━━━━━━━━━━━━━━━┳━━━━━━━━━━━━━━━━━┓\n",
              "┃\u001b[1m \u001b[0m\u001b[1mLayer (type)                        \u001b[0m\u001b[1m \u001b[0m┃\u001b[1m \u001b[0m\u001b[1mOutput Shape               \u001b[0m\u001b[1m \u001b[0m┃\u001b[1m \u001b[0m\u001b[1m        Param #\u001b[0m\u001b[1m \u001b[0m┃\n",
              "┡━━━━━━━━━━━━━━━━━━━━━━━━━━━━━━━━━━━━━━╇━━━━━━━━━━━━━━━━━━━━━━━━━━━━━╇━━━━━━━━━━━━━━━━━┩\n",
              "│ embedding (\u001b[38;5;33mEmbedding\u001b[0m)                │ ?                           │     \u001b[38;5;34m0\u001b[0m (unbuilt) │\n",
              "├──────────────────────────────────────┼─────────────────────────────┼─────────────────┤\n",
              "│ lstm (\u001b[38;5;33mLSTM\u001b[0m)                          │ ?                           │     \u001b[38;5;34m0\u001b[0m (unbuilt) │\n",
              "├──────────────────────────────────────┼─────────────────────────────┼─────────────────┤\n",
              "│ dense (\u001b[38;5;33mDense\u001b[0m)                        │ ?                           │     \u001b[38;5;34m0\u001b[0m (unbuilt) │\n",
              "└──────────────────────────────────────┴─────────────────────────────┴─────────────────┘\n"
            ],
            "text/html": [
              "<pre style=\"white-space:pre;overflow-x:auto;line-height:normal;font-family:Menlo,'DejaVu Sans Mono',consolas,'Courier New',monospace\">┏━━━━━━━━━━━━━━━━━━━━━━━━━━━━━━━━━━━━━━┳━━━━━━━━━━━━━━━━━━━━━━━━━━━━━┳━━━━━━━━━━━━━━━━━┓\n",
              "┃<span style=\"font-weight: bold\"> Layer (type)                         </span>┃<span style=\"font-weight: bold\"> Output Shape                </span>┃<span style=\"font-weight: bold\">         Param # </span>┃\n",
              "┡━━━━━━━━━━━━━━━━━━━━━━━━━━━━━━━━━━━━━━╇━━━━━━━━━━━━━━━━━━━━━━━━━━━━━╇━━━━━━━━━━━━━━━━━┩\n",
              "│ embedding (<span style=\"color: #0087ff; text-decoration-color: #0087ff\">Embedding</span>)                │ ?                           │     <span style=\"color: #00af00; text-decoration-color: #00af00\">0</span> (unbuilt) │\n",
              "├──────────────────────────────────────┼─────────────────────────────┼─────────────────┤\n",
              "│ lstm (<span style=\"color: #0087ff; text-decoration-color: #0087ff\">LSTM</span>)                          │ ?                           │     <span style=\"color: #00af00; text-decoration-color: #00af00\">0</span> (unbuilt) │\n",
              "├──────────────────────────────────────┼─────────────────────────────┼─────────────────┤\n",
              "│ dense (<span style=\"color: #0087ff; text-decoration-color: #0087ff\">Dense</span>)                        │ ?                           │     <span style=\"color: #00af00; text-decoration-color: #00af00\">0</span> (unbuilt) │\n",
              "└──────────────────────────────────────┴─────────────────────────────┴─────────────────┘\n",
              "</pre>\n"
            ]
          },
          "metadata": {}
        },
        {
          "output_type": "display_data",
          "data": {
            "text/plain": [
              "\u001b[1m Total params: \u001b[0m\u001b[38;5;34m0\u001b[0m (0.00 B)\n"
            ],
            "text/html": [
              "<pre style=\"white-space:pre;overflow-x:auto;line-height:normal;font-family:Menlo,'DejaVu Sans Mono',consolas,'Courier New',monospace\"><span style=\"font-weight: bold\"> Total params: </span><span style=\"color: #00af00; text-decoration-color: #00af00\">0</span> (0.00 B)\n",
              "</pre>\n"
            ]
          },
          "metadata": {}
        },
        {
          "output_type": "display_data",
          "data": {
            "text/plain": [
              "\u001b[1m Trainable params: \u001b[0m\u001b[38;5;34m0\u001b[0m (0.00 B)\n"
            ],
            "text/html": [
              "<pre style=\"white-space:pre;overflow-x:auto;line-height:normal;font-family:Menlo,'DejaVu Sans Mono',consolas,'Courier New',monospace\"><span style=\"font-weight: bold\"> Trainable params: </span><span style=\"color: #00af00; text-decoration-color: #00af00\">0</span> (0.00 B)\n",
              "</pre>\n"
            ]
          },
          "metadata": {}
        },
        {
          "output_type": "display_data",
          "data": {
            "text/plain": [
              "\u001b[1m Non-trainable params: \u001b[0m\u001b[38;5;34m0\u001b[0m (0.00 B)\n"
            ],
            "text/html": [
              "<pre style=\"white-space:pre;overflow-x:auto;line-height:normal;font-family:Menlo,'DejaVu Sans Mono',consolas,'Courier New',monospace\"><span style=\"font-weight: bold\"> Non-trainable params: </span><span style=\"color: #00af00; text-decoration-color: #00af00\">0</span> (0.00 B)\n",
              "</pre>\n"
            ]
          },
          "metadata": {}
        }
      ]
    },
    {
      "cell_type": "code",
      "source": [
        "callback = tf.keras.callbacks.EarlyStopping(monitor='loss',patience=3)\n",
        "model.fit(x,y,epochs=100,callbacks=[callback])"
      ],
      "metadata": {
        "colab": {
          "base_uri": "https://localhost:8080/"
        },
        "id": "XN2LlHkkqMTL",
        "outputId": "61861dbe-1e43-4557-c5b4-72e843aea77b"
      },
      "execution_count": 15,
      "outputs": [
        {
          "output_type": "stream",
          "name": "stdout",
          "text": [
            "Epoch 1/100\n",
            "\u001b[1m107/107\u001b[0m \u001b[32m━━━━━━━━━━━━━━━━━━━━\u001b[0m\u001b[37m\u001b[0m \u001b[1m7s\u001b[0m 11ms/step - accuracy: 0.0406 - loss: 6.9351\n",
            "Epoch 2/100\n",
            "\u001b[1m107/107\u001b[0m \u001b[32m━━━━━━━━━━━━━━━━━━━━\u001b[0m\u001b[37m\u001b[0m \u001b[1m2s\u001b[0m 10ms/step - accuracy: 0.0525 - loss: 6.2637\n",
            "Epoch 3/100\n",
            "\u001b[1m107/107\u001b[0m \u001b[32m━━━━━━━━━━━━━━━━━━━━\u001b[0m\u001b[37m\u001b[0m \u001b[1m1s\u001b[0m 11ms/step - accuracy: 0.0556 - loss: 6.0109\n",
            "Epoch 4/100\n",
            "\u001b[1m107/107\u001b[0m \u001b[32m━━━━━━━━━━━━━━━━━━━━\u001b[0m\u001b[37m\u001b[0m \u001b[1m1s\u001b[0m 10ms/step - accuracy: 0.0541 - loss: 5.9040\n",
            "Epoch 5/100\n",
            "\u001b[1m107/107\u001b[0m \u001b[32m━━━━━━━━━━━━━━━━━━━━\u001b[0m\u001b[37m\u001b[0m \u001b[1m1s\u001b[0m 10ms/step - accuracy: 0.0686 - loss: 5.6450\n",
            "Epoch 6/100\n",
            "\u001b[1m107/107\u001b[0m \u001b[32m━━━━━━━━━━━━━━━━━━━━\u001b[0m\u001b[37m\u001b[0m \u001b[1m1s\u001b[0m 10ms/step - accuracy: 0.0918 - loss: 5.3806\n",
            "Epoch 7/100\n",
            "\u001b[1m107/107\u001b[0m \u001b[32m━━━━━━━━━━━━━━━━━━━━\u001b[0m\u001b[37m\u001b[0m \u001b[1m1s\u001b[0m 10ms/step - accuracy: 0.0965 - loss: 5.2100\n",
            "Epoch 8/100\n",
            "\u001b[1m107/107\u001b[0m \u001b[32m━━━━━━━━━━━━━━━━━━━━\u001b[0m\u001b[37m\u001b[0m \u001b[1m1s\u001b[0m 10ms/step - accuracy: 0.1243 - loss: 4.9478\n",
            "Epoch 9/100\n",
            "\u001b[1m107/107\u001b[0m \u001b[32m━━━━━━━━━━━━━━━━━━━━\u001b[0m\u001b[37m\u001b[0m \u001b[1m1s\u001b[0m 11ms/step - accuracy: 0.1224 - loss: 4.8326\n",
            "Epoch 10/100\n",
            "\u001b[1m107/107\u001b[0m \u001b[32m━━━━━━━━━━━━━━━━━━━━\u001b[0m\u001b[37m\u001b[0m \u001b[1m1s\u001b[0m 10ms/step - accuracy: 0.1417 - loss: 4.5712\n",
            "Epoch 11/100\n",
            "\u001b[1m107/107\u001b[0m \u001b[32m━━━━━━━━━━━━━━━━━━━━\u001b[0m\u001b[37m\u001b[0m \u001b[1m1s\u001b[0m 9ms/step - accuracy: 0.1565 - loss: 4.3889\n",
            "Epoch 12/100\n",
            "\u001b[1m107/107\u001b[0m \u001b[32m━━━━━━━━━━━━━━━━━━━━\u001b[0m\u001b[37m\u001b[0m \u001b[1m1s\u001b[0m 9ms/step - accuracy: 0.1733 - loss: 4.1484\n",
            "Epoch 13/100\n",
            "\u001b[1m107/107\u001b[0m \u001b[32m━━━━━━━━━━━━━━━━━━━━\u001b[0m\u001b[37m\u001b[0m \u001b[1m1s\u001b[0m 6ms/step - accuracy: 0.1934 - loss: 3.9672\n",
            "Epoch 14/100\n",
            "\u001b[1m107/107\u001b[0m \u001b[32m━━━━━━━━━━━━━━━━━━━━\u001b[0m\u001b[37m\u001b[0m \u001b[1m1s\u001b[0m 7ms/step - accuracy: 0.2281 - loss: 3.8227\n",
            "Epoch 15/100\n",
            "\u001b[1m107/107\u001b[0m \u001b[32m━━━━━━━━━━━━━━━━━━━━\u001b[0m\u001b[37m\u001b[0m \u001b[1m1s\u001b[0m 7ms/step - accuracy: 0.2577 - loss: 3.5780\n",
            "Epoch 16/100\n",
            "\u001b[1m107/107\u001b[0m \u001b[32m━━━━━━━━━━━━━━━━━━━━\u001b[0m\u001b[37m\u001b[0m \u001b[1m1s\u001b[0m 7ms/step - accuracy: 0.3012 - loss: 3.4214\n",
            "Epoch 17/100\n",
            "\u001b[1m107/107\u001b[0m \u001b[32m━━━━━━━━━━━━━━━━━━━━\u001b[0m\u001b[37m\u001b[0m \u001b[1m1s\u001b[0m 7ms/step - accuracy: 0.3393 - loss: 3.2388\n",
            "Epoch 18/100\n",
            "\u001b[1m107/107\u001b[0m \u001b[32m━━━━━━━━━━━━━━━━━━━━\u001b[0m\u001b[37m\u001b[0m \u001b[1m1s\u001b[0m 7ms/step - accuracy: 0.3801 - loss: 3.0656\n",
            "Epoch 19/100\n",
            "\u001b[1m107/107\u001b[0m \u001b[32m━━━━━━━━━━━━━━━━━━━━\u001b[0m\u001b[37m\u001b[0m \u001b[1m1s\u001b[0m 7ms/step - accuracy: 0.4308 - loss: 2.8335\n",
            "Epoch 20/100\n",
            "\u001b[1m107/107\u001b[0m \u001b[32m━━━━━━━━━━━━━━━━━━━━\u001b[0m\u001b[37m\u001b[0m \u001b[1m1s\u001b[0m 10ms/step - accuracy: 0.4722 - loss: 2.7027\n",
            "Epoch 21/100\n",
            "\u001b[1m107/107\u001b[0m \u001b[32m━━━━━━━━━━━━━━━━━━━━\u001b[0m\u001b[37m\u001b[0m \u001b[1m1s\u001b[0m 10ms/step - accuracy: 0.5385 - loss: 2.4945\n",
            "Epoch 22/100\n",
            "\u001b[1m107/107\u001b[0m \u001b[32m━━━━━━━━━━━━━━━━━━━━\u001b[0m\u001b[37m\u001b[0m \u001b[1m1s\u001b[0m 9ms/step - accuracy: 0.5808 - loss: 2.3173\n",
            "Epoch 23/100\n",
            "\u001b[1m107/107\u001b[0m \u001b[32m━━━━━━━━━━━━━━━━━━━━\u001b[0m\u001b[37m\u001b[0m \u001b[1m1s\u001b[0m 6ms/step - accuracy: 0.6288 - loss: 2.1748\n",
            "Epoch 24/100\n",
            "\u001b[1m107/107\u001b[0m \u001b[32m━━━━━━━━━━━━━━━━━━━━\u001b[0m\u001b[37m\u001b[0m \u001b[1m1s\u001b[0m 6ms/step - accuracy: 0.6601 - loss: 2.0418\n",
            "Epoch 25/100\n",
            "\u001b[1m107/107\u001b[0m \u001b[32m━━━━━━━━━━━━━━━━━━━━\u001b[0m\u001b[37m\u001b[0m \u001b[1m1s\u001b[0m 6ms/step - accuracy: 0.6919 - loss: 1.8940\n",
            "Epoch 26/100\n",
            "\u001b[1m107/107\u001b[0m \u001b[32m━━━━━━━━━━━━━━━━━━━━\u001b[0m\u001b[37m\u001b[0m \u001b[1m1s\u001b[0m 6ms/step - accuracy: 0.7136 - loss: 1.7445\n",
            "Epoch 27/100\n",
            "\u001b[1m107/107\u001b[0m \u001b[32m━━━━━━━━━━━━━━━━━━━━\u001b[0m\u001b[37m\u001b[0m \u001b[1m1s\u001b[0m 6ms/step - accuracy: 0.7515 - loss: 1.6238\n",
            "Epoch 28/100\n",
            "\u001b[1m107/107\u001b[0m \u001b[32m━━━━━━━━━━━━━━━━━━━━\u001b[0m\u001b[37m\u001b[0m \u001b[1m1s\u001b[0m 6ms/step - accuracy: 0.7776 - loss: 1.4766\n",
            "Epoch 29/100\n",
            "\u001b[1m107/107\u001b[0m \u001b[32m━━━━━━━━━━━━━━━━━━━━\u001b[0m\u001b[37m\u001b[0m \u001b[1m1s\u001b[0m 6ms/step - accuracy: 0.7898 - loss: 1.3913\n",
            "Epoch 30/100\n",
            "\u001b[1m107/107\u001b[0m \u001b[32m━━━━━━━━━━━━━━━━━━━━\u001b[0m\u001b[37m\u001b[0m \u001b[1m1s\u001b[0m 6ms/step - accuracy: 0.8087 - loss: 1.2365\n",
            "Epoch 31/100\n",
            "\u001b[1m107/107\u001b[0m \u001b[32m━━━━━━━━━━━━━━━━━━━━\u001b[0m\u001b[37m\u001b[0m \u001b[1m1s\u001b[0m 6ms/step - accuracy: 0.8331 - loss: 1.1645\n",
            "Epoch 32/100\n",
            "\u001b[1m107/107\u001b[0m \u001b[32m━━━━━━━━━━━━━━━━━━━━\u001b[0m\u001b[37m\u001b[0m \u001b[1m1s\u001b[0m 6ms/step - accuracy: 0.8387 - loss: 1.1069\n",
            "Epoch 33/100\n",
            "\u001b[1m107/107\u001b[0m \u001b[32m━━━━━━━━━━━━━━━━━━━━\u001b[0m\u001b[37m\u001b[0m \u001b[1m1s\u001b[0m 6ms/step - accuracy: 0.8667 - loss: 0.9821\n",
            "Epoch 34/100\n",
            "\u001b[1m107/107\u001b[0m \u001b[32m━━━━━━━━━━━━━━━━━━━━\u001b[0m\u001b[37m\u001b[0m \u001b[1m1s\u001b[0m 8ms/step - accuracy: 0.8868 - loss: 0.9416\n",
            "Epoch 35/100\n",
            "\u001b[1m107/107\u001b[0m \u001b[32m━━━━━━━━━━━━━━━━━━━━\u001b[0m\u001b[37m\u001b[0m \u001b[1m1s\u001b[0m 9ms/step - accuracy: 0.8800 - loss: 0.8664\n",
            "Epoch 36/100\n",
            "\u001b[1m107/107\u001b[0m \u001b[32m━━━━━━━━━━━━━━━━━━━━\u001b[0m\u001b[37m\u001b[0m \u001b[1m1s\u001b[0m 7ms/step - accuracy: 0.9046 - loss: 0.7883\n",
            "Epoch 37/100\n",
            "\u001b[1m107/107\u001b[0m \u001b[32m━━━━━━━━━━━━━━━━━━━━\u001b[0m\u001b[37m\u001b[0m \u001b[1m1s\u001b[0m 6ms/step - accuracy: 0.9129 - loss: 0.7296\n",
            "Epoch 38/100\n",
            "\u001b[1m107/107\u001b[0m \u001b[32m━━━━━━━━━━━━━━━━━━━━\u001b[0m\u001b[37m\u001b[0m \u001b[1m1s\u001b[0m 6ms/step - accuracy: 0.9244 - loss: 0.6585\n",
            "Epoch 39/100\n",
            "\u001b[1m107/107\u001b[0m \u001b[32m━━━━━━━━━━━━━━━━━━━━\u001b[0m\u001b[37m\u001b[0m \u001b[1m1s\u001b[0m 6ms/step - accuracy: 0.9241 - loss: 0.6223\n",
            "Epoch 40/100\n",
            "\u001b[1m107/107\u001b[0m \u001b[32m━━━━━━━━━━━━━━━━━━━━\u001b[0m\u001b[37m\u001b[0m \u001b[1m1s\u001b[0m 6ms/step - accuracy: 0.9310 - loss: 0.5674\n",
            "Epoch 41/100\n",
            "\u001b[1m107/107\u001b[0m \u001b[32m━━━━━━━━━━━━━━━━━━━━\u001b[0m\u001b[37m\u001b[0m \u001b[1m1s\u001b[0m 7ms/step - accuracy: 0.9326 - loss: 0.5351\n",
            "Epoch 42/100\n",
            "\u001b[1m107/107\u001b[0m \u001b[32m━━━━━━━━━━━━━━━━━━━━\u001b[0m\u001b[37m\u001b[0m \u001b[1m1s\u001b[0m 7ms/step - accuracy: 0.9468 - loss: 0.4903\n",
            "Epoch 43/100\n",
            "\u001b[1m107/107\u001b[0m \u001b[32m━━━━━━━━━━━━━━━━━━━━\u001b[0m\u001b[37m\u001b[0m \u001b[1m1s\u001b[0m 6ms/step - accuracy: 0.9525 - loss: 0.4556\n",
            "Epoch 44/100\n",
            "\u001b[1m107/107\u001b[0m \u001b[32m━━━━━━━━━━━━━━━━━━━━\u001b[0m\u001b[37m\u001b[0m \u001b[1m1s\u001b[0m 6ms/step - accuracy: 0.9463 - loss: 0.4350\n",
            "Epoch 45/100\n",
            "\u001b[1m107/107\u001b[0m \u001b[32m━━━━━━━━━━━━━━━━━━━━\u001b[0m\u001b[37m\u001b[0m \u001b[1m1s\u001b[0m 6ms/step - accuracy: 0.9574 - loss: 0.3908\n",
            "Epoch 46/100\n",
            "\u001b[1m107/107\u001b[0m \u001b[32m━━━━━━━━━━━━━━━━━━━━\u001b[0m\u001b[37m\u001b[0m \u001b[1m1s\u001b[0m 8ms/step - accuracy: 0.9605 - loss: 0.3636\n",
            "Epoch 47/100\n",
            "\u001b[1m107/107\u001b[0m \u001b[32m━━━━━━━━━━━━━━━━━━━━\u001b[0m\u001b[37m\u001b[0m \u001b[1m1s\u001b[0m 9ms/step - accuracy: 0.9656 - loss: 0.3431\n",
            "Epoch 48/100\n",
            "\u001b[1m107/107\u001b[0m \u001b[32m━━━━━━━━━━━━━━━━━━━━\u001b[0m\u001b[37m\u001b[0m \u001b[1m1s\u001b[0m 6ms/step - accuracy: 0.9623 - loss: 0.3099\n",
            "Epoch 49/100\n",
            "\u001b[1m107/107\u001b[0m \u001b[32m━━━━━━━━━━━━━━━━━━━━\u001b[0m\u001b[37m\u001b[0m \u001b[1m1s\u001b[0m 6ms/step - accuracy: 0.9661 - loss: 0.2928\n",
            "Epoch 50/100\n",
            "\u001b[1m107/107\u001b[0m \u001b[32m━━━━━━━━━━━━━━━━━━━━\u001b[0m\u001b[37m\u001b[0m \u001b[1m1s\u001b[0m 6ms/step - accuracy: 0.9653 - loss: 0.2815\n",
            "Epoch 51/100\n",
            "\u001b[1m107/107\u001b[0m \u001b[32m━━━━━━━━━━━━━━━━━━━━\u001b[0m\u001b[37m\u001b[0m \u001b[1m1s\u001b[0m 6ms/step - accuracy: 0.9643 - loss: 0.3124\n",
            "Epoch 52/100\n",
            "\u001b[1m107/107\u001b[0m \u001b[32m━━━━━━━━━━━━━━━━━━━━\u001b[0m\u001b[37m\u001b[0m \u001b[1m1s\u001b[0m 6ms/step - accuracy: 0.9733 - loss: 0.2565\n",
            "Epoch 53/100\n",
            "\u001b[1m107/107\u001b[0m \u001b[32m━━━━━━━━━━━━━━━━━━━━\u001b[0m\u001b[37m\u001b[0m \u001b[1m1s\u001b[0m 6ms/step - accuracy: 0.9713 - loss: 0.2382\n",
            "Epoch 54/100\n",
            "\u001b[1m107/107\u001b[0m \u001b[32m━━━━━━━━━━━━━━━━━━━━\u001b[0m\u001b[37m\u001b[0m \u001b[1m1s\u001b[0m 6ms/step - accuracy: 0.9728 - loss: 0.2243\n",
            "Epoch 55/100\n",
            "\u001b[1m107/107\u001b[0m \u001b[32m━━━━━━━━━━━━━━━━━━━━\u001b[0m\u001b[37m\u001b[0m \u001b[1m1s\u001b[0m 6ms/step - accuracy: 0.9710 - loss: 0.2131\n",
            "Epoch 56/100\n",
            "\u001b[1m107/107\u001b[0m \u001b[32m━━━━━━━━━━━━━━━━━━━━\u001b[0m\u001b[37m\u001b[0m \u001b[1m1s\u001b[0m 6ms/step - accuracy: 0.9771 - loss: 0.2142\n",
            "Epoch 57/100\n",
            "\u001b[1m107/107\u001b[0m \u001b[32m━━━━━━━━━━━━━━━━━━━━\u001b[0m\u001b[37m\u001b[0m \u001b[1m1s\u001b[0m 6ms/step - accuracy: 0.9777 - loss: 0.1912\n",
            "Epoch 58/100\n",
            "\u001b[1m107/107\u001b[0m \u001b[32m━━━━━━━━━━━━━━━━━━━━\u001b[0m\u001b[37m\u001b[0m \u001b[1m1s\u001b[0m 8ms/step - accuracy: 0.9800 - loss: 0.1710\n",
            "Epoch 59/100\n",
            "\u001b[1m107/107\u001b[0m \u001b[32m━━━━━━━━━━━━━━━━━━━━\u001b[0m\u001b[37m\u001b[0m \u001b[1m1s\u001b[0m 8ms/step - accuracy: 0.9777 - loss: 0.1686\n",
            "Epoch 60/100\n",
            "\u001b[1m107/107\u001b[0m \u001b[32m━━━━━━━━━━━━━━━━━━━━\u001b[0m\u001b[37m\u001b[0m \u001b[1m1s\u001b[0m 7ms/step - accuracy: 0.9794 - loss: 0.1564\n",
            "Epoch 61/100\n",
            "\u001b[1m107/107\u001b[0m \u001b[32m━━━━━━━━━━━━━━━━━━━━\u001b[0m\u001b[37m\u001b[0m \u001b[1m1s\u001b[0m 6ms/step - accuracy: 0.9790 - loss: 0.1471\n",
            "Epoch 62/100\n",
            "\u001b[1m107/107\u001b[0m \u001b[32m━━━━━━━━━━━━━━━━━━━━\u001b[0m\u001b[37m\u001b[0m \u001b[1m1s\u001b[0m 6ms/step - accuracy: 0.9769 - loss: 0.1455\n",
            "Epoch 63/100\n",
            "\u001b[1m107/107\u001b[0m \u001b[32m━━━━━━━━━━━━━━━━━━━━\u001b[0m\u001b[37m\u001b[0m \u001b[1m1s\u001b[0m 6ms/step - accuracy: 0.9789 - loss: 0.1354\n",
            "Epoch 64/100\n",
            "\u001b[1m107/107\u001b[0m \u001b[32m━━━━━━━━━━━━━━━━━━━━\u001b[0m\u001b[37m\u001b[0m \u001b[1m1s\u001b[0m 6ms/step - accuracy: 0.9785 - loss: 0.1356\n",
            "Epoch 65/100\n",
            "\u001b[1m107/107\u001b[0m \u001b[32m━━━━━━━━━━━━━━━━━━━━\u001b[0m\u001b[37m\u001b[0m \u001b[1m1s\u001b[0m 6ms/step - accuracy: 0.9826 - loss: 0.1215\n",
            "Epoch 66/100\n",
            "\u001b[1m107/107\u001b[0m \u001b[32m━━━━━━━━━━━━━━━━━━━━\u001b[0m\u001b[37m\u001b[0m \u001b[1m1s\u001b[0m 6ms/step - accuracy: 0.9818 - loss: 0.1101\n",
            "Epoch 67/100\n",
            "\u001b[1m107/107\u001b[0m \u001b[32m━━━━━━━━━━━━━━━━━━━━\u001b[0m\u001b[37m\u001b[0m \u001b[1m1s\u001b[0m 6ms/step - accuracy: 0.9808 - loss: 0.1127\n",
            "Epoch 68/100\n",
            "\u001b[1m107/107\u001b[0m \u001b[32m━━━━━━━━━━━━━━━━━━━━\u001b[0m\u001b[37m\u001b[0m \u001b[1m1s\u001b[0m 6ms/step - accuracy: 0.9827 - loss: 0.1023\n",
            "Epoch 69/100\n",
            "\u001b[1m107/107\u001b[0m \u001b[32m━━━━━━━━━━━━━━━━━━━━\u001b[0m\u001b[37m\u001b[0m \u001b[1m1s\u001b[0m 6ms/step - accuracy: 0.9779 - loss: 0.1055\n",
            "Epoch 70/100\n",
            "\u001b[1m107/107\u001b[0m \u001b[32m━━━━━━━━━━━━━━━━━━━━\u001b[0m\u001b[37m\u001b[0m \u001b[1m1s\u001b[0m 6ms/step - accuracy: 0.9807 - loss: 0.1006\n",
            "Epoch 71/100\n",
            "\u001b[1m107/107\u001b[0m \u001b[32m━━━━━━━━━━━━━━━━━━━━\u001b[0m\u001b[37m\u001b[0m \u001b[1m1s\u001b[0m 9ms/step - accuracy: 0.9833 - loss: 0.0904\n",
            "Epoch 72/100\n",
            "\u001b[1m107/107\u001b[0m \u001b[32m━━━━━━━━━━━━━━━━━━━━\u001b[0m\u001b[37m\u001b[0m \u001b[1m1s\u001b[0m 9ms/step - accuracy: 0.9799 - loss: 0.0937\n",
            "Epoch 73/100\n",
            "\u001b[1m107/107\u001b[0m \u001b[32m━━━━━━━━━━━━━━━━━━━━\u001b[0m\u001b[37m\u001b[0m \u001b[1m1s\u001b[0m 6ms/step - accuracy: 0.9833 - loss: 0.0859\n",
            "Epoch 74/100\n",
            "\u001b[1m107/107\u001b[0m \u001b[32m━━━━━━━━━━━━━━━━━━━━\u001b[0m\u001b[37m\u001b[0m \u001b[1m1s\u001b[0m 6ms/step - accuracy: 0.9826 - loss: 0.0818\n",
            "Epoch 75/100\n",
            "\u001b[1m107/107\u001b[0m \u001b[32m━━━━━━━━━━━━━━━━━━━━\u001b[0m\u001b[37m\u001b[0m \u001b[1m1s\u001b[0m 6ms/step - accuracy: 0.9769 - loss: 0.0878\n",
            "Epoch 76/100\n",
            "\u001b[1m107/107\u001b[0m \u001b[32m━━━━━━━━━━━━━━━━━━━━\u001b[0m\u001b[37m\u001b[0m \u001b[1m1s\u001b[0m 6ms/step - accuracy: 0.9859 - loss: 0.0737\n",
            "Epoch 77/100\n",
            "\u001b[1m107/107\u001b[0m \u001b[32m━━━━━━━━━━━━━━━━━━━━\u001b[0m\u001b[37m\u001b[0m \u001b[1m1s\u001b[0m 6ms/step - accuracy: 0.9850 - loss: 0.0729\n",
            "Epoch 78/100\n",
            "\u001b[1m107/107\u001b[0m \u001b[32m━━━━━━━━━━━━━━━━━━━━\u001b[0m\u001b[37m\u001b[0m \u001b[1m1s\u001b[0m 6ms/step - accuracy: 0.9817 - loss: 0.0797\n",
            "Epoch 79/100\n",
            "\u001b[1m107/107\u001b[0m \u001b[32m━━━━━━━━━━━━━━━━━━━━\u001b[0m\u001b[37m\u001b[0m \u001b[1m1s\u001b[0m 6ms/step - accuracy: 0.9826 - loss: 0.0663\n",
            "Epoch 80/100\n",
            "\u001b[1m107/107\u001b[0m \u001b[32m━━━━━━━━━━━━━━━━━━━━\u001b[0m\u001b[37m\u001b[0m \u001b[1m1s\u001b[0m 7ms/step - accuracy: 0.9844 - loss: 0.0688\n",
            "Epoch 81/100\n",
            "\u001b[1m107/107\u001b[0m \u001b[32m━━━━━━━━━━━━━━━━━━━━\u001b[0m\u001b[37m\u001b[0m \u001b[1m1s\u001b[0m 6ms/step - accuracy: 0.9819 - loss: 0.0697\n",
            "Epoch 82/100\n",
            "\u001b[1m107/107\u001b[0m \u001b[32m━━━━━━━━━━━━━━━━━━━━\u001b[0m\u001b[37m\u001b[0m \u001b[1m1s\u001b[0m 6ms/step - accuracy: 0.9807 - loss: 0.0712\n",
            "Epoch 83/100\n",
            "\u001b[1m107/107\u001b[0m \u001b[32m━━━━━━━━━━━━━━━━━━━━\u001b[0m\u001b[37m\u001b[0m \u001b[1m1s\u001b[0m 6ms/step - accuracy: 0.9764 - loss: 0.0737\n",
            "Epoch 84/100\n",
            "\u001b[1m107/107\u001b[0m \u001b[32m━━━━━━━━━━━━━━━━━━━━\u001b[0m\u001b[37m\u001b[0m \u001b[1m1s\u001b[0m 7ms/step - accuracy: 0.9806 - loss: 0.0642\n",
            "Epoch 85/100\n",
            "\u001b[1m107/107\u001b[0m \u001b[32m━━━━━━━━━━━━━━━━━━━━\u001b[0m\u001b[37m\u001b[0m \u001b[1m1s\u001b[0m 9ms/step - accuracy: 0.9804 - loss: 0.0656\n",
            "Epoch 86/100\n",
            "\u001b[1m107/107\u001b[0m \u001b[32m━━━━━━━━━━━━━━━━━━━━\u001b[0m\u001b[37m\u001b[0m \u001b[1m1s\u001b[0m 6ms/step - accuracy: 0.9814 - loss: 0.0627\n",
            "Epoch 87/100\n",
            "\u001b[1m107/107\u001b[0m \u001b[32m━━━━━━━━━━━━━━━━━━━━\u001b[0m\u001b[37m\u001b[0m \u001b[1m1s\u001b[0m 6ms/step - accuracy: 0.9814 - loss: 0.0583\n",
            "Epoch 88/100\n",
            "\u001b[1m107/107\u001b[0m \u001b[32m━━━━━━━━━━━━━━━━━━━━\u001b[0m\u001b[37m\u001b[0m \u001b[1m1s\u001b[0m 6ms/step - accuracy: 0.9777 - loss: 0.0638\n",
            "Epoch 89/100\n",
            "\u001b[1m107/107\u001b[0m \u001b[32m━━━━━━━━━━━━━━━━━━━━\u001b[0m\u001b[37m\u001b[0m \u001b[1m1s\u001b[0m 6ms/step - accuracy: 0.9852 - loss: 0.0511\n",
            "Epoch 90/100\n",
            "\u001b[1m107/107\u001b[0m \u001b[32m━━━━━━━━━━━━━━━━━━━━\u001b[0m\u001b[37m\u001b[0m \u001b[1m1s\u001b[0m 6ms/step - accuracy: 0.9848 - loss: 0.0505\n",
            "Epoch 91/100\n",
            "\u001b[1m107/107\u001b[0m \u001b[32m━━━━━━━━━━━━━━━━━━━━\u001b[0m\u001b[37m\u001b[0m \u001b[1m1s\u001b[0m 6ms/step - accuracy: 0.9835 - loss: 0.0519\n",
            "Epoch 92/100\n",
            "\u001b[1m107/107\u001b[0m \u001b[32m━━━━━━━━━━━━━━━━━━━━\u001b[0m\u001b[37m\u001b[0m \u001b[1m1s\u001b[0m 6ms/step - accuracy: 0.9813 - loss: 0.0536\n",
            "Epoch 93/100\n",
            "\u001b[1m107/107\u001b[0m \u001b[32m━━━━━━━━━━━━━━━━━━━━\u001b[0m\u001b[37m\u001b[0m \u001b[1m1s\u001b[0m 6ms/step - accuracy: 0.9838 - loss: 0.0471\n",
            "Epoch 94/100\n",
            "\u001b[1m107/107\u001b[0m \u001b[32m━━━━━━━━━━━━━━━━━━━━\u001b[0m\u001b[37m\u001b[0m \u001b[1m1s\u001b[0m 6ms/step - accuracy: 0.9874 - loss: 0.0440\n",
            "Epoch 95/100\n",
            "\u001b[1m107/107\u001b[0m \u001b[32m━━━━━━━━━━━━━━━━━━━━\u001b[0m\u001b[37m\u001b[0m \u001b[1m1s\u001b[0m 6ms/step - accuracy: 0.9859 - loss: 0.0440\n",
            "Epoch 96/100\n",
            "\u001b[1m107/107\u001b[0m \u001b[32m━━━━━━━━━━━━━━━━━━━━\u001b[0m\u001b[37m\u001b[0m \u001b[1m2s\u001b[0m 8ms/step - accuracy: 0.9854 - loss: 0.0434\n",
            "Epoch 97/100\n",
            "\u001b[1m107/107\u001b[0m \u001b[32m━━━━━━━━━━━━━━━━━━━━\u001b[0m\u001b[37m\u001b[0m \u001b[1m1s\u001b[0m 8ms/step - accuracy: 0.9847 - loss: 0.0415\n",
            "Epoch 98/100\n",
            "\u001b[1m107/107\u001b[0m \u001b[32m━━━━━━━━━━━━━━━━━━━━\u001b[0m\u001b[37m\u001b[0m \u001b[1m1s\u001b[0m 6ms/step - accuracy: 0.9839 - loss: 0.0458\n",
            "Epoch 99/100\n",
            "\u001b[1m107/107\u001b[0m \u001b[32m━━━━━━━━━━━━━━━━━━━━\u001b[0m\u001b[37m\u001b[0m \u001b[1m1s\u001b[0m 6ms/step - accuracy: 0.9851 - loss: 0.0446\n",
            "Epoch 100/100\n",
            "\u001b[1m107/107\u001b[0m \u001b[32m━━━━━━━━━━━━━━━━━━━━\u001b[0m\u001b[37m\u001b[0m \u001b[1m1s\u001b[0m 6ms/step - accuracy: 0.9856 - loss: 0.0431\n"
          ]
        },
        {
          "output_type": "execute_result",
          "data": {
            "text/plain": [
              "<keras.src.callbacks.history.History at 0x7d0b076efb80>"
            ]
          },
          "metadata": {},
          "execution_count": 15
        }
      ]
    },
    {
      "cell_type": "code",
      "source": [
        "import time\n",
        "text = \"Kohli's playstyle is\"\n",
        "\n",
        "for i in range(10):\n",
        "  # tokenize\n",
        "  token_text = tokenizer.texts_to_sequences([text])[0]\n",
        "  # padding\n",
        "  padded_token_text = pad_sequences([token_text], maxlen=maxi, padding='pre')\n",
        "  # predict\n",
        "  pos = np.argmax(model.predict(padded_token_text))\n",
        "\n",
        "  for word,index in tokenizer.word_index.items():\n",
        "    if index == pos:\n",
        "      text = text + \" \" + word\n",
        "      print(text)\n",
        "      time.sleep(1)"
      ],
      "metadata": {
        "colab": {
          "base_uri": "https://localhost:8080/"
        },
        "id": "SAk349jOuV5S",
        "outputId": "4e5aecd4-c64f-4237-c8c4-8a2cd247b13f"
      },
      "execution_count": 25,
      "outputs": [
        {
          "output_type": "stream",
          "name": "stdout",
          "text": [
            "\u001b[1m1/1\u001b[0m \u001b[32m━━━━━━━━━━━━━━━━━━━━\u001b[0m\u001b[37m\u001b[0m \u001b[1m0s\u001b[0m 30ms/step\n",
            "Kohli's playstyle is since\n",
            "\u001b[1m1/1\u001b[0m \u001b[32m━━━━━━━━━━━━━━━━━━━━\u001b[0m\u001b[37m\u001b[0m \u001b[1m0s\u001b[0m 17ms/step\n",
            "Kohli's playstyle is since then\n",
            "\u001b[1m1/1\u001b[0m \u001b[32m━━━━━━━━━━━━━━━━━━━━\u001b[0m\u001b[37m\u001b[0m \u001b[1m0s\u001b[0m 21ms/step\n",
            "Kohli's playstyle is since then has\n",
            "\u001b[1m1/1\u001b[0m \u001b[32m━━━━━━━━━━━━━━━━━━━━\u001b[0m\u001b[37m\u001b[0m \u001b[1m0s\u001b[0m 18ms/step\n",
            "Kohli's playstyle is since then has attracted\n",
            "\u001b[1m1/1\u001b[0m \u001b[32m━━━━━━━━━━━━━━━━━━━━\u001b[0m\u001b[37m\u001b[0m \u001b[1m0s\u001b[0m 16ms/step\n",
            "Kohli's playstyle is since then has attracted significant\n",
            "\u001b[1m1/1\u001b[0m \u001b[32m━━━━━━━━━━━━━━━━━━━━\u001b[0m\u001b[37m\u001b[0m \u001b[1m0s\u001b[0m 18ms/step\n",
            "Kohli's playstyle is since then has attracted significant media\n",
            "\u001b[1m1/1\u001b[0m \u001b[32m━━━━━━━━━━━━━━━━━━━━\u001b[0m\u001b[37m\u001b[0m \u001b[1m0s\u001b[0m 16ms/step\n",
            "Kohli's playstyle is since then has attracted significant media interest\n",
            "\u001b[1m1/1\u001b[0m \u001b[32m━━━━━━━━━━━━━━━━━━━━\u001b[0m\u001b[37m\u001b[0m \u001b[1m0s\u001b[0m 17ms/step\n",
            "Kohli's playstyle is since then has attracted significant media interest at\n",
            "\u001b[1m1/1\u001b[0m \u001b[32m━━━━━━━━━━━━━━━━━━━━\u001b[0m\u001b[37m\u001b[0m \u001b[1m0s\u001b[0m 16ms/step\n",
            "Kohli's playstyle is since then has attracted significant media interest at launch\n",
            "\u001b[1m1/1\u001b[0m \u001b[32m━━━━━━━━━━━━━━━━━━━━\u001b[0m\u001b[37m\u001b[0m \u001b[1m0s\u001b[0m 17ms/step\n",
            "Kohli's playstyle is since then has attracted significant media interest at launch a\n"
          ]
        }
      ]
    },
    {
      "cell_type": "code",
      "source": [],
      "metadata": {
        "id": "jf09xSOdwXZ4"
      },
      "execution_count": 16,
      "outputs": []
    }
  ]
}